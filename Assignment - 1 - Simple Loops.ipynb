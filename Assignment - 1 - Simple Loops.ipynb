{
 "cells": [
  {
   "cell_type": "markdown",
   "metadata": {},
   "source": [
    "1. Write a program to print 1 to 10 numbers using a while loop"
   ]
  },
  {
   "cell_type": "code",
   "execution_count": 1,
   "metadata": {},
   "outputs": [
    {
     "name": "stdout",
     "output_type": "stream",
     "text": [
      "1\n",
      "2\n",
      "3\n",
      "4\n",
      "5\n",
      "6\n",
      "7\n",
      "8\n",
      "9\n",
      "10\n"
     ]
    },
    {
     "data": {
      "text/plain": [
       "10"
      ]
     },
     "execution_count": 1,
     "metadata": {},
     "output_type": "execute_result"
    }
   ],
   "source": [
    "var i = 1;\n",
    "\n",
    "while(i <= 10) {\n",
    "\n",
    "    console.log(i);\n",
    "    i++;\n",
    "\n",
    "}"
   ]
  },
  {
   "cell_type": "markdown",
   "metadata": {},
   "source": [
    "2. Write a program to print 10 to 1 numbers using a while loop"
   ]
  },
  {
   "cell_type": "code",
   "execution_count": 2,
   "metadata": {},
   "outputs": [
    {
     "name": "stdout",
     "output_type": "stream",
     "text": [
      "10\n",
      "9\n",
      "8\n",
      "7\n",
      "6\n",
      "5\n",
      "4\n",
      "3\n",
      "2\n",
      "1\n"
     ]
    },
    {
     "data": {
      "text/plain": [
       "1"
      ]
     },
     "execution_count": 2,
     "metadata": {},
     "output_type": "execute_result"
    }
   ],
   "source": [
    "var i = 10;\n",
    "\n",
    "while(i > 0) {\n",
    "    console.log(i);\n",
    "    i--;\n",
    "}"
   ]
  },
  {
   "cell_type": "markdown",
   "metadata": {},
   "source": [
    "3. Write a program to print 5 to 15 numbers using a while loop"
   ]
  },
  {
   "cell_type": "code",
   "execution_count": 3,
   "metadata": {},
   "outputs": [
    {
     "name": "stdout",
     "output_type": "stream",
     "text": [
      "5\n",
      "6\n",
      "7\n",
      "8\n",
      "9\n",
      "10\n",
      "11\n",
      "12\n",
      "13\n",
      "14\n",
      "15\n"
     ]
    },
    {
     "data": {
      "text/plain": [
       "15"
      ]
     },
     "execution_count": 3,
     "metadata": {},
     "output_type": "execute_result"
    }
   ],
   "source": [
    "var i = 5;\n",
    "\n",
    "while(i <= 15) {\n",
    "    \n",
    "    console.log(i)\n",
    "    i++;\n",
    "}"
   ]
  },
  {
   "cell_type": "markdown",
   "metadata": {},
   "source": [
    "4. Write a program to print 15 to 10 numbers using a while loop"
   ]
  },
  {
   "cell_type": "code",
   "execution_count": 4,
   "metadata": {},
   "outputs": [
    {
     "name": "stdout",
     "output_type": "stream",
     "text": [
      "15\n",
      "14\n",
      "13\n",
      "12\n",
      "11\n",
      "10\n"
     ]
    },
    {
     "data": {
      "text/plain": [
       "10"
      ]
     },
     "execution_count": 4,
     "metadata": {},
     "output_type": "execute_result"
    }
   ],
   "source": [
    "var i = 15;\n",
    "\n",
    "while(i >= 10) {\n",
    "    console.log(i)\n",
    "    i--;\n",
    "}"
   ]
  },
  {
   "cell_type": "markdown",
   "metadata": {},
   "source": [
    "5. Write a program to print 1 to 10 even numbers using a while loop"
   ]
  },
  {
   "cell_type": "code",
   "execution_count": 5,
   "metadata": {},
   "outputs": [
    {
     "name": "stdout",
     "output_type": "stream",
     "text": [
      "2\n",
      "4\n",
      "6\n",
      "8\n",
      "10\n"
     ]
    },
    {
     "data": {
      "text/plain": [
       "10"
      ]
     },
     "execution_count": 5,
     "metadata": {},
     "output_type": "execute_result"
    }
   ],
   "source": [
    "var i = 1;\n",
    "\n",
    "while(i <= 10) {\n",
    "    if(i%2 == 0) console.log(i)\n",
    "    i++;\n",
    "}"
   ]
  },
  {
   "cell_type": "markdown",
   "metadata": {},
   "source": [
    "6. Write a program to print 1 to 10 odd numbers using a while loop"
   ]
  },
  {
   "cell_type": "code",
   "execution_count": 6,
   "metadata": {},
   "outputs": [
    {
     "name": "stdout",
     "output_type": "stream",
     "text": [
      "1\n",
      "3\n",
      "5\n",
      "7\n",
      "9\n"
     ]
    },
    {
     "data": {
      "text/plain": [
       "10"
      ]
     },
     "execution_count": 6,
     "metadata": {},
     "output_type": "execute_result"
    }
   ],
   "source": [
    "var i = 1;\n",
    "\n",
    "while(i <= 10) {\n",
    "    if(i%2 != 0) console.log(i)\n",
    "    i++;\n",
    "}"
   ]
  },
  {
   "cell_type": "markdown",
   "metadata": {},
   "source": [
    "7. Write a program to print first ten multiples of 4 using a while loop"
   ]
  },
  {
   "cell_type": "code",
   "execution_count": 7,
   "metadata": {},
   "outputs": [
    {
     "name": "stdout",
     "output_type": "stream",
     "text": [
      "4\n",
      "8\n",
      "12\n",
      "16\n",
      "20\n",
      "24\n",
      "28\n",
      "32\n",
      "36\n",
      "40\n"
     ]
    },
    {
     "data": {
      "text/plain": [
       "40"
      ]
     },
     "execution_count": 7,
     "metadata": {},
     "output_type": "execute_result"
    }
   ],
   "source": [
    "var i = 1;\n",
    "\n",
    "var cnt = 0;\n",
    "\n",
    "while(cnt < 10) {\n",
    "    if(i%4 == 0) {\n",
    "        console.log(i)\n",
    "        cnt++;\n",
    "    }\n",
    "    i++;\n",
    "}"
   ]
  },
  {
   "cell_type": "markdown",
   "metadata": {},
   "source": [
    "8. Write a program to print multiplication table of 6 using while loop"
   ]
  },
  {
   "cell_type": "code",
   "execution_count": 8,
   "metadata": {},
   "outputs": [
    {
     "name": "stdout",
     "output_type": "stream",
     "text": [
      "6 * 1 = 6\n",
      "6 * 2 = 12\n",
      "6 * 3 = 18\n",
      "6 * 4 = 24\n",
      "6 * 5 = 30\n",
      "6 * 6 = 36\n",
      "6 * 7 = 42\n",
      "6 * 8 = 48\n",
      "6 * 9 = 54\n",
      "6 * 10 = 60\n"
     ]
    },
    {
     "data": {
      "text/plain": [
       "10"
      ]
     },
     "execution_count": 8,
     "metadata": {},
     "output_type": "execute_result"
    }
   ],
   "source": [
    "var i = 6;\n",
    "var j = 1;\n",
    "\n",
    "while(j <= 10) {\n",
    "    \n",
    "    console.log(String(i) + ' * '+ String(j) + ' = ' + String( i * j ))\n",
    "    j++;\n",
    "}"
   ]
  },
  {
   "cell_type": "markdown",
   "metadata": {},
   "source": [
    "9. Write a program to print factors of 24 using while loop"
   ]
  },
  {
   "cell_type": "code",
   "execution_count": 9,
   "metadata": {},
   "outputs": [
    {
     "name": "stdout",
     "output_type": "stream",
     "text": [
      "1\n",
      "2\n",
      "3\n",
      "4\n",
      "6\n",
      "8\n",
      "12\n"
     ]
    },
    {
     "data": {
      "text/plain": [
       "23"
      ]
     },
     "execution_count": 9,
     "metadata": {},
     "output_type": "execute_result"
    }
   ],
   "source": [
    "var fact = 24;\n",
    "var i = 1;\n",
    "\n",
    "while(i < fact) {\n",
    "    if(fact % i == 0) console.log(i)\n",
    "    i++;\n",
    "}"
   ]
  },
  {
   "cell_type": "markdown",
   "metadata": {},
   "source": [
    "10. Write a program to print the number of factors of 24 using while loop"
   ]
  },
  {
   "cell_type": "code",
   "execution_count": 10,
   "metadata": {},
   "outputs": [
    {
     "name": "stdout",
     "output_type": "stream",
     "text": [
      "The number of factors of 24 is -  7\n"
     ]
    }
   ],
   "source": [
    "var fact = 24;\n",
    "var i = 1;\n",
    "var j = 0;\n",
    "\n",
    "while(i < fact) {\n",
    "    if(fact % i == 0) {\n",
    "        j++;\n",
    "    }\n",
    "    i++;\n",
    "}\n",
    "console.log(\"The number of factors of 24 is - \", j)"
   ]
  },
  {
   "cell_type": "markdown",
   "metadata": {},
   "source": [
    "11. Write a program to print 1 to 10 numbers using a for loop"
   ]
  },
  {
   "cell_type": "code",
   "execution_count": 11,
   "metadata": {},
   "outputs": [
    {
     "name": "stdout",
     "output_type": "stream",
     "text": [
      "1\n",
      "2\n",
      "3\n",
      "4\n",
      "5\n",
      "6\n",
      "7\n",
      "8\n",
      "9\n",
      "10\n"
     ]
    }
   ],
   "source": [
    "for(var i=1; i <= 10; i++) {\n",
    "    console.log(i)\n",
    "}"
   ]
  },
  {
   "cell_type": "markdown",
   "metadata": {},
   "source": [
    "12. Write a program to print 10 to 1 numbers using a for loop"
   ]
  },
  {
   "cell_type": "code",
   "execution_count": 12,
   "metadata": {},
   "outputs": [
    {
     "name": "stdout",
     "output_type": "stream",
     "text": [
      "10\n",
      "9\n",
      "8\n",
      "7\n",
      "6\n",
      "5\n",
      "4\n",
      "3\n",
      "2\n",
      "1\n"
     ]
    }
   ],
   "source": [
    "for(var i=10; i > 0; i--) {\n",
    "    console.log(i)\n",
    "}"
   ]
  },
  {
   "cell_type": "markdown",
   "metadata": {},
   "source": [
    "13. Write a program to print all numbers from 1 to a given number"
   ]
  },
  {
   "cell_type": "code",
   "execution_count": 13,
   "metadata": {},
   "outputs": [
    {
     "name": "stdout",
     "output_type": "stream",
     "text": [
      "1\n",
      "2\n",
      "3\n",
      "4\n",
      "5\n",
      "6\n",
      "7\n",
      "8\n",
      "9\n",
      "10\n"
     ]
    }
   ],
   "source": [
    "var k = 10;\n",
    "\n",
    "for(var i=1; i <= k; i++) {\n",
    "    console.log(i)\n",
    "}"
   ]
  },
  {
   "cell_type": "markdown",
   "metadata": {},
   "source": [
    "14. Write a program to print 1 to 10 even numbers using a for loop"
   ]
  },
  {
   "cell_type": "code",
   "execution_count": 14,
   "metadata": {},
   "outputs": [
    {
     "name": "stdout",
     "output_type": "stream",
     "text": [
      "2\n",
      "4\n",
      "6\n",
      "8\n",
      "10\n"
     ]
    }
   ],
   "source": [
    "for(var i=1; i<=10; i++) {\n",
    "    if(i%2 == 0) console.log(i)\n",
    "}"
   ]
  },
  {
   "cell_type": "markdown",
   "metadata": {},
   "source": [
    "15. Write a program to print 1 to 10 odd numbers using a for loop"
   ]
  },
  {
   "cell_type": "code",
   "execution_count": 15,
   "metadata": {},
   "outputs": [
    {
     "name": "stdout",
     "output_type": "stream",
     "text": [
      "1\n",
      "3\n",
      "5\n",
      "7\n",
      "9\n"
     ]
    }
   ],
   "source": [
    "for(var i=1; i<=10; i++) {\n",
    "    if(i%2 != 0) console.log(i)\n",
    "}"
   ]
  },
  {
   "cell_type": "markdown",
   "metadata": {},
   "source": [
    "16. Write a program to print first 10 multiples of 3"
   ]
  },
  {
   "cell_type": "code",
   "execution_count": 16,
   "metadata": {},
   "outputs": [
    {
     "name": "stdout",
     "output_type": "stream",
     "text": [
      "3\n",
      "6\n",
      "9\n",
      "12\n",
      "15\n",
      "18\n",
      "21\n",
      "24\n",
      "27\n",
      "30\n"
     ]
    },
    {
     "data": {
      "text/plain": [
       "10"
      ]
     },
     "execution_count": 16,
     "metadata": {},
     "output_type": "execute_result"
    }
   ],
   "source": [
    "var k = 1;\n",
    "var j = 1;\n",
    "\n",
    "for(var j=1; k <= 10; j++) {\n",
    "    if(j%3 == 0) {\n",
    "        console.log(j);\n",
    "        k++;\n",
    "    }\n",
    "}\n"
   ]
  },
  {
   "cell_type": "markdown",
   "metadata": {},
   "source": [
    "17. Write a program to print multiplication table of 6"
   ]
  },
  {
   "cell_type": "code",
   "execution_count": 17,
   "metadata": {},
   "outputs": [
    {
     "name": "stdout",
     "output_type": "stream",
     "text": [
      "6 * 1 = 6\n",
      "6 * 2 = 12\n",
      "6 * 3 = 18\n",
      "6 * 4 = 24\n",
      "6 * 5 = 30\n",
      "6 * 6 = 36\n",
      "6 * 7 = 42\n",
      "6 * 8 = 48\n",
      "6 * 9 = 54\n",
      "6 * 10 = 60\n"
     ]
    }
   ],
   "source": [
    "var t = 6;\n",
    "\n",
    "for(var i = 1; i <= 10; i++) {\n",
    "    console.log(String(6)+\" * \" + String(i) + \" = \" + String(6*i))\n",
    "}"
   ]
  },
  {
   "cell_type": "markdown",
   "metadata": {},
   "source": [
    "18. Write a program to print factorial of a given number"
   ]
  },
  {
   "cell_type": "code",
   "execution_count": 18,
   "metadata": {},
   "outputs": [
    {
     "name": "stdout",
     "output_type": "stream",
     "text": [
      "720\n"
     ]
    }
   ],
   "source": [
    "var k = 6;\n",
    "var fact = 1;\n",
    "\n",
    "for(var i=k; i > 0; i--) {\n",
    "    fact *= i;\n",
    "    k--;\n",
    "}\n",
    "console.log(fact)"
   ]
  },
  {
   "cell_type": "markdown",
   "metadata": {},
   "source": [
    "19. Write a program to print all the factors of a given number"
   ]
  },
  {
   "cell_type": "code",
   "execution_count": 19,
   "metadata": {},
   "outputs": [
    {
     "name": "stdout",
     "output_type": "stream",
     "text": [
      "1\n",
      "2\n",
      "3\n",
      "4\n",
      "6\n",
      "8\n",
      "12\n"
     ]
    }
   ],
   "source": [
    "var fact = 24;\n",
    "\n",
    "for(var i=1; i<fact; i++) {\n",
    "    if(24%i == 0) console.log(i)\n",
    "}"
   ]
  },
  {
   "cell_type": "markdown",
   "metadata": {},
   "source": [
    "20. Write a program to print the count of factors of a given number"
   ]
  },
  {
   "cell_type": "code",
   "execution_count": 20,
   "metadata": {},
   "outputs": [
    {
     "name": "stdout",
     "output_type": "stream",
     "text": [
      "7\n"
     ]
    }
   ],
   "source": [
    "var fact = 24;\n",
    "var k = 0;\n",
    "\n",
    "for(var i=1; i<fact; i++) {\n",
    "    if(24%i == 0) k++;\n",
    "}\n",
    "\n",
    "console.log(k)"
   ]
  },
  {
   "cell_type": "markdown",
   "metadata": {},
   "source": [
    "21. Write a program to check a given number is a prime number or not"
   ]
  },
  {
   "cell_type": "code",
   "execution_count": 21,
   "metadata": {},
   "outputs": [
    {
     "name": "stdout",
     "output_type": "stream",
     "text": [
      "24 is not a prime number\n"
     ]
    }
   ],
   "source": [
    "var prime = 24;\n",
    "var cnt = 0\n",
    "\n",
    "for(var i = 1; i <= prime; i++) {\n",
    "    if(prime % i == 0) cnt++;\n",
    "}\n",
    "\n",
    "(cnt == 2) ? console.log(String(prime), \"is a prime number\") : console.log(String(prime), \"is not a prime number\")"
   ]
  },
  {
   "cell_type": "markdown",
   "metadata": {},
   "source": [
    "22. a program to print reverse of digits of a number"
   ]
  },
  {
   "cell_type": "code",
   "execution_count": 22,
   "metadata": {},
   "outputs": [
    {
     "name": "stdout",
     "output_type": "stream",
     "text": [
      "432\n"
     ]
    }
   ],
   "source": [
    "var sum = 0;\n",
    "var x = 234;\n",
    "var temp;\n",
    "var y;\n",
    "\n",
    "while(x/10 != 0) {\n",
    "    temp = parseInt(x / 10);\n",
    "    y = x % 10;\n",
    "    sum = sum * 10 + y;\n",
    "    x = temp;\n",
    "}\n",
    "\n",
    "console.log(sum)"
   ]
  },
  {
   "cell_type": "markdown",
   "metadata": {},
   "source": [
    "23. a program to read 5 numbers and print the maximum and minimum number"
   ]
  },
  {
   "cell_type": "code",
   "execution_count": 23,
   "metadata": {},
   "outputs": [
    {
     "name": "stdout",
     "output_type": "stream",
     "text": [
      "Max of given numbers is 5\n",
      "Min of given numbers is 1\n"
     ]
    }
   ],
   "source": [
    "var arr = [3, 2, 4, 1, 5]\n",
    "\n",
    "for(var i=0; i < arr.length; i++) {\n",
    "    \n",
    "    for(var j=i+1; j < arr.length; j++)\n",
    "        \n",
    "    if(arr[i] < arr[j]) {\n",
    "        \n",
    "        [arr[j], arr[i]] = [arr[i], arr[j]]\n",
    "        \n",
    "    }\n",
    "    \n",
    "}\n",
    "\n",
    "console.log('Max of given numbers is', arr[0])\n",
    "\n",
    "console.log('Min of given numbers is', arr[arr.length-1])"
   ]
  },
  {
   "cell_type": "markdown",
   "metadata": {},
   "source": [
    "24. a program to read 5 numbers and print the sum of all entered numbers"
   ]
  },
  {
   "cell_type": "code",
   "execution_count": 24,
   "metadata": {},
   "outputs": [
    {
     "name": "stdout",
     "output_type": "stream",
     "text": [
      "Sum of the given numbers is 15\n"
     ]
    }
   ],
   "source": [
    "var arr = [3, 2, 1, 5, 4];\n",
    "var sum = 0;\n",
    "\n",
    "for(var i = 0; i < arr.length; i++) {\n",
    "    sum += arr[i]\n",
    "}\n",
    "\n",
    "console.log('Sum of the given numbers is',sum)"
   ]
  },
  {
   "cell_type": "markdown",
   "metadata": {},
   "source": [
    "25. a program to print average of n numbers"
   ]
  },
  {
   "cell_type": "code",
   "execution_count": 25,
   "metadata": {},
   "outputs": [
    {
     "name": "stdout",
     "output_type": "stream",
     "text": [
      "Average of the given numbers is 3\n"
     ]
    }
   ],
   "source": [
    "var arr = [3, 2, 1, 5, 4];\n",
    "var sum = 0;\n",
    "\n",
    "for(var i = 0; i < arr.length; i++) {\n",
    "    sum += arr[i]\n",
    "}\n",
    "\n",
    "console.log('Average of the given numbers is',sum/arr.length)"
   ]
  },
  {
   "cell_type": "markdown",
   "metadata": {},
   "source": [
    "26. a program to read 5 numbers and print only the even numbers"
   ]
  },
  {
   "cell_type": "code",
   "execution_count": 26,
   "metadata": {},
   "outputs": [
    {
     "name": "stdout",
     "output_type": "stream",
     "text": [
      "2\n",
      "4\n"
     ]
    }
   ],
   "source": [
    "var arr = [3, 2, 1, 5, 4];\n",
    "\n",
    "for(var i = 0; i < arr.length; i++) {\n",
    "    if(arr[i] % 2 == 0) console.log(arr[i])\n",
    "}"
   ]
  },
  {
   "cell_type": "markdown",
   "metadata": {},
   "source": [
    "27. Write a program to print the fibonacci number series upto a given number"
   ]
  },
  {
   "cell_type": "code",
   "execution_count": 27,
   "metadata": {},
   "outputs": [
    {
     "name": "stdout",
     "output_type": "stream",
     "text": [
      "[ 0, 1, 1, 2, 3, 5, 8, 13 ]\n"
     ]
    }
   ],
   "source": [
    "var num = 17;\n",
    "\n",
    "var arr = [0, 1]\n",
    "\n",
    "var sum = 0;\n",
    "\n",
    "while(num > arr[arr.length-1]+ arr[arr.length-2]) {\n",
    "    sum = (arr[arr.length-1] + arr[arr.length-2])\n",
    "    arr.push(sum)\n",
    "}\n",
    "\n",
    "console.log(arr)"
   ]
  },
  {
   "cell_type": "markdown",
   "metadata": {},
   "source": [
    "28. Write a program to check a given number is armstrong number or not Ex:"
   ]
  },
  {
   "cell_type": "code",
   "execution_count": 28,
   "metadata": {},
   "outputs": [
    {
     "name": "stdout",
     "output_type": "stream",
     "text": [
      "153 is Armstrong number\n"
     ]
    }
   ],
   "source": [
    "var sum = 0;\n",
    "var num = 153\n",
    "var x = num;\n",
    "var temp;\n",
    "var y;\n",
    "\n",
    "while(x/10 != 0) {\n",
    "    temp = parseInt(x / 10);\n",
    "    y = x % 10;\n",
    "    sum = sum  + Math.pow(y, 3);\n",
    "    x = temp;\n",
    "}\n",
    "(sum == num) ? console.log(String(num) + ' is Armstrong number') : console.log(String(num) + ' is not Armstrong number')\n",
    "\n"
   ]
  },
  {
   "cell_type": "markdown",
   "metadata": {},
   "source": [
    "29. Write a program to print the reverse of a given number"
   ]
  },
  {
   "cell_type": "code",
   "execution_count": 29,
   "metadata": {},
   "outputs": [
    {
     "name": "stdout",
     "output_type": "stream",
     "text": [
      "432\n"
     ]
    }
   ],
   "source": [
    "var sum = 0;\n",
    "var x = 234;\n",
    "var temp;\n",
    "var y;\n",
    "\n",
    "while(x/10 != 0) {\n",
    "    temp = parseInt(x / 10);\n",
    "    y = x % 10;\n",
    "    sum = sum * 10 + y;\n",
    "    x = temp;\n",
    "}\n",
    "\n",
    "console.log(sum)"
   ]
  },
  {
   "cell_type": "markdown",
   "metadata": {},
   "source": [
    "30. Write a program to check a given number is palindrome number or not"
   ]
  },
  {
   "cell_type": "code",
   "execution_count": 30,
   "metadata": {},
   "outputs": [
    {
     "name": "stdout",
     "output_type": "stream",
     "text": [
      "12321 Palindrome number\n"
     ]
    }
   ],
   "source": [
    "var sum = 0;\n",
    "var x = 12321;\n",
    "var num = x;\n",
    "var temp;\n",
    "var y;\n",
    "\n",
    "while(x/10 != 0) {\n",
    "    temp = parseInt(x / 10);\n",
    "    y = x % 10;\n",
    "    sum = sum * 10 + y;\n",
    "    x = temp;\n",
    "}\n",
    "\n",
    "(sum == num) ? console.log(String(num) + ' Palindrome number') : console.log(String(num) + ' Not a Palindrome number')"
   ]
  },
  {
   "cell_type": "markdown",
   "metadata": {},
   "source": [
    "31.Write a program to print the number at 100’s place"
   ]
  },
  {
   "cell_type": "code",
   "execution_count": 31,
   "metadata": {},
   "outputs": [
    {
     "name": "stdout",
     "output_type": "stream",
     "text": [
      "100th place of given number 153 is 1\n"
     ]
    }
   ],
   "source": [
    "var num = 153;\n",
    "\n",
    "console.log('100th place of given number '+String(num)+ ' is ' + String(parseInt(num / 100)))"
   ]
  },
  {
   "cell_type": "markdown",
   "metadata": {},
   "source": [
    "32. Write a program to print the nCr of given ‘n’ and ‘r’"
   ]
  },
  {
   "cell_type": "code",
   "execution_count": 32,
   "metadata": {},
   "outputs": [],
   "source": [
    "function factorial(k) {\n",
    "    var fact = 1;\n",
    "\n",
    "    for(var i=k; i > 0; i--) {\n",
    "        fact *= i;\n",
    "        k--;\n",
    "    }\n",
    "    return fact;\n",
    "}"
   ]
  },
  {
   "cell_type": "code",
   "execution_count": 33,
   "metadata": {},
   "outputs": [],
   "source": [
    "function nCr(num, r) {\n",
    "    return ( factorial(num) / (factorial(num-r) * factorial(r)) )\n",
    "}"
   ]
  },
  {
   "cell_type": "code",
   "execution_count": 34,
   "metadata": {},
   "outputs": [
    {
     "data": {
      "text/plain": [
       "10"
      ]
     },
     "execution_count": 34,
     "metadata": {},
     "output_type": "execute_result"
    }
   ],
   "source": [
    "var num = 5\n",
    "var r = 2\n",
    "nCr(num, r)"
   ]
  },
  {
   "cell_type": "markdown",
   "metadata": {},
   "source": [
    "33) Print largest digit of Given numbers"
   ]
  },
  {
   "cell_type": "code",
   "execution_count": 35,
   "metadata": {},
   "outputs": [
    {
     "data": {
      "text/plain": [
       "0"
      ]
     },
     "execution_count": 35,
     "metadata": {},
     "output_type": "execute_result"
    }
   ],
   "source": [
    "var x = 952;\n",
    "var temp;\n",
    "var y;\n",
    "var my_arr = [];\n",
    "\n",
    "while(x/10 != 0) {\n",
    "    temp = parseInt(x / 10);\n",
    "    y = x % 10;\n",
    "    my_arr.push(y)\n",
    "    x = temp;\n",
    "}"
   ]
  },
  {
   "cell_type": "code",
   "execution_count": 36,
   "metadata": {},
   "outputs": [
    {
     "name": "stdout",
     "output_type": "stream",
     "text": [
      "Max number of a give number is  9\n"
     ]
    }
   ],
   "source": [
    "for(var i=0; i < my_arr.length; i++) {\n",
    "    \n",
    "    for(var j=i+1; j < my_arr.length; j++)\n",
    "        \n",
    "    if(my_arr[i] < my_arr[j]) {\n",
    "        \n",
    "        [my_arr[j], my_arr[i]] = [my_arr[i], my_arr[j]]\n",
    "        \n",
    "    }\n",
    "    \n",
    "}\n",
    "console.log('Max number of a give number is ', my_arr[0])"
   ]
  },
  {
   "cell_type": "markdown",
   "metadata": {},
   "source": [
    "34) print Number of Digits in given number"
   ]
  },
  {
   "cell_type": "code",
   "execution_count": 37,
   "metadata": {},
   "outputs": [
    {
     "name": "stdout",
     "output_type": "stream",
     "text": [
      "Number of digits of given number 952 is 3\n"
     ]
    }
   ],
   "source": [
    "var x = 952;\n",
    "var num = x;\n",
    "var temp;\n",
    "var y;\n",
    "var my_arr = [];\n",
    "\n",
    "while(x/10 != 0) {\n",
    "    temp = parseInt(x / 10);\n",
    "    y = x % 10;\n",
    "    my_arr.push(y)\n",
    "    x = temp;\n",
    "}\n",
    "\n",
    "console.log( 'Number of digits of given number ' +  String(num) + ' is ' + String(my_arr.length) )"
   ]
  },
  {
   "cell_type": "markdown",
   "metadata": {},
   "source": [
    "35) sum of all digits of given number."
   ]
  },
  {
   "cell_type": "code",
   "execution_count": 38,
   "metadata": {},
   "outputs": [
    {
     "name": "stdout",
     "output_type": "stream",
     "text": [
      "Sum of all digits of given number 952 is 16\n"
     ]
    }
   ],
   "source": [
    "var x = 952;\n",
    "var num = x;\n",
    "var temp;\n",
    "var y;\n",
    "var sum = 0;\n",
    "\n",
    "while(x/10 != 0) {\n",
    "    temp = parseInt(x / 10);\n",
    "    y = x % 10;\n",
    "    sum += y;\n",
    "    x = temp;\n",
    "}\n",
    "\n",
    "console.log('Sum of all digits of given number ' + String(num) + ' is ' + String(sum))"
   ]
  },
  {
   "cell_type": "markdown",
   "metadata": {},
   "source": [
    "36) print the binary value of 8."
   ]
  },
  {
   "cell_type": "code",
   "execution_count": 39,
   "metadata": {},
   "outputs": [
    {
     "name": "stdout",
     "output_type": "stream",
     "text": [
      "Binary number of a given number is \" 1 0 0 0 \"\n"
     ]
    }
   ],
   "source": [
    "var x = 8;\n",
    "var num = x;\n",
    "var my_arr = [];\n",
    "\n",
    "while(parseInt(x / 2) > 0) {\n",
    "    temp = parseInt(x / 2);\n",
    "    my_arr.push( x % 2)\n",
    "    x = temp;\n",
    "}\n",
    "my_arr.push(x)\n",
    "\n",
    "console.log('Binary number of a given number is \"', String(my_arr.reverse().join(' ')), '\"')"
   ]
  },
  {
   "cell_type": "raw",
   "metadata": {},
   "source": []
  }
 ],
 "metadata": {
  "kernelspec": {
   "display_name": "Javascript (Node.js)",
   "language": "javascript",
   "name": "javascript"
  },
  "language_info": {
   "file_extension": ".js",
   "mimetype": "application/javascript",
   "name": "javascript",
   "version": "8.9.4"
  }
 },
 "nbformat": 4,
 "nbformat_minor": 2
}
