{
 "cells": [
  {
   "cell_type": "markdown",
   "metadata": {},
   "source": [
    " One DImensional integer Arrays\n",
    " \n",
    "1)write a script to print all array values in console. \n",
    "\n",
    "2)print all the Array values using for loop.\n",
    "\n",
    "3)print the minimum number in an Array.\n",
    "\n",
    "4)print the Maximum number in an array.\n",
    "\n",
    "5)sum of all the numbers in an Array.\n",
    "\n",
    "6)Average of an Array.\n",
    "\n",
    "7)print values that are greater than given number.\n",
    "\n",
    "8)print all the even numbers in an Array.\n",
    "\n",
    "9)print all the odd numbers in an Array.\n",
    "\n",
    "10)print all the positive numbers in an array.\n",
    "\n",
    "11)search the given number is there in an array or not.\n",
    "\n",
    "12)print total number of times an element found in an Array.\n",
    "\n",
    "13)print index of an element in an Array.\n",
    "\n",
    "14) eliminate duplicates in a given array\n",
    "    1. a program to store an array into another array\n",
    "    2. a program to read 5 numbers in an array and add them\n",
    "    3. Sort the array\n",
    "\n",
    "One Dimensional Char Arrays(Strings)\n",
    "    1. a program to print the length of a character array using loops\n",
    "    2. a program to print reverse of a character array\n",
    "    3. a program to print length of a character array using %s\n",
    "    4. A program to check a given string is a palindrome or not\n",
    "\n",
    "Two Dimensional Integer Arrays\n",
    "    1. a program to introduce formation of a matrix\n",
    "    2. a program to add two matrices\n",
    "    3. a program to multiply two matrices\n"
   ]
  },
  {
   "cell_type": "markdown",
   "metadata": {},
   "source": [
    "## 1. write a script to print all array values in console."
   ]
  },
  {
   "cell_type": "code",
   "execution_count": 2,
   "metadata": {},
   "outputs": [
    {
     "name": "stdout",
     "output_type": "stream",
     "text": [
      "1\n",
      "2\n",
      "3\n",
      "4\n",
      "5\n"
     ]
    },
    {
     "data": {
      "text/plain": [
       "4"
      ]
     },
     "execution_count": 2,
     "metadata": {},
     "output_type": "execute_result"
    }
   ],
   "source": [
    "var arr = [1, 2, 3, 4, 5]\n",
    "var i = 0;\n",
    "\n",
    "while(i < arr.length){\n",
    "    console.log(arr[i]);\n",
    "    i++;\n",
    "}"
   ]
  },
  {
   "cell_type": "markdown",
   "metadata": {},
   "source": [
    "## 2. print all the Array values using for loop."
   ]
  },
  {
   "cell_type": "code",
   "execution_count": 3,
   "metadata": {},
   "outputs": [
    {
     "name": "stdout",
     "output_type": "stream",
     "text": [
      "1\n",
      "2\n",
      "3\n",
      "4\n",
      "5\n"
     ]
    }
   ],
   "source": [
    "var arr = [1, 2, 3, 4, 5]\n",
    "\n",
    "for(var i=0; i < arr.length; i++) {\n",
    "    console.log(arr[i])\n",
    "}"
   ]
  },
  {
   "cell_type": "markdown",
   "metadata": {},
   "source": [
    "## 3. print the minimum number in an Array."
   ]
  },
  {
   "cell_type": "code",
   "execution_count": 6,
   "metadata": {},
   "outputs": [
    {
     "name": "stdout",
     "output_type": "stream",
     "text": [
      "Min number in an Array 1\n"
     ]
    }
   ],
   "source": [
    "var arr = [3, 2, 1, 5, 4]\n",
    "\n",
    "for(var i=0; i < arr.length; i++) {\n",
    "    for(var j=i+1; j < arr.length; j++) {\n",
    "        if(arr[i] > arr[j]) {\n",
    "            [arr[i], arr[j]] = [arr[j], arr[i]]\n",
    "        }\n",
    "    }\n",
    "}\n",
    "console.log('Min number in an Array', String(arr[0]))"
   ]
  },
  {
   "cell_type": "markdown",
   "metadata": {},
   "source": [
    "## 4. print the Maximum number in an array"
   ]
  },
  {
   "cell_type": "code",
   "execution_count": 7,
   "metadata": {},
   "outputs": [
    {
     "name": "stdout",
     "output_type": "stream",
     "text": [
      "Max number in an Array 5\n"
     ]
    }
   ],
   "source": [
    "var arr = [3, 2, 1, 5, 4]\n",
    "\n",
    "for(var i=0; i < arr.length; i++) {\n",
    "    for(var j=i+1; j < arr.length; j++) {\n",
    "        if(arr[i] < arr[j]) {\n",
    "            [arr[i], arr[j]] = [arr[j], arr[i]]\n",
    "        }\n",
    "    }\n",
    "}\n",
    "console.log('Max number in an Array', String(arr[0]))"
   ]
  },
  {
   "cell_type": "markdown",
   "metadata": {},
   "source": [
    "## 5. sum of all the numbers in an Array"
   ]
  },
  {
   "cell_type": "code",
   "execution_count": 8,
   "metadata": {},
   "outputs": [
    {
     "name": "stdout",
     "output_type": "stream",
     "text": [
      "Sum of all numbers in an Array 15\n"
     ]
    }
   ],
   "source": [
    "var arr = [3, 2, 1, 5, 4]\n",
    "var sum = 0;\n",
    "for(var i=0; i < arr.length; i++) {\n",
    "    sum += arr[i]\n",
    "}\n",
    "console.log('Sum of all numbers in an Array', sum)"
   ]
  },
  {
   "cell_type": "markdown",
   "metadata": {},
   "source": [
    "## 6. Average of an Array."
   ]
  },
  {
   "cell_type": "code",
   "execution_count": 9,
   "metadata": {},
   "outputs": [
    {
     "name": "stdout",
     "output_type": "stream",
     "text": [
      "Average of all numbers in an Array 3\n"
     ]
    }
   ],
   "source": [
    "var arr = [3, 2, 1, 5, 4]\n",
    "var sum = 0;\n",
    "for(var i=0; i < arr.length; i++) {\n",
    "    sum += arr[i]\n",
    "}\n",
    "console.log('Average of all numbers in an Array', sum/arr.length)"
   ]
  },
  {
   "cell_type": "markdown",
   "metadata": {},
   "source": [
    "## 7. print values that are greater than given number."
   ]
  },
  {
   "cell_type": "code",
   "execution_count": 10,
   "metadata": {},
   "outputs": [
    {
     "name": "stdout",
     "output_type": "stream",
     "text": [
      "Values that are greater than 3  given Array [ 5, 4 ]\n"
     ]
    }
   ],
   "source": [
    "var arr = [3, 2, 1, 5, 4]\n",
    "var max = 3;\n",
    "var my_arr = [];\n",
    "\n",
    "for(var i=0; i < arr.length; i++) {\n",
    "    if(arr[i] > max) my_arr.push(arr[i])\n",
    "}\n",
    "console.log('Values that are greater than',String(max),' given Array', my_arr)"
   ]
  },
  {
   "cell_type": "markdown",
   "metadata": {},
   "source": [
    "## 8. print all the even numbers in an Array."
   ]
  },
  {
   "cell_type": "code",
   "execution_count": 11,
   "metadata": {},
   "outputs": [
    {
     "name": "stdout",
     "output_type": "stream",
     "text": [
      "Values that are even in the given Array [ 2, 4 ]\n"
     ]
    }
   ],
   "source": [
    "var arr = [3, 2, 1, 5, 4]\n",
    "var my_arr = [];\n",
    "\n",
    "for(var i=0; i < arr.length; i++) {\n",
    "    if(arr[i] % 2 == 0) my_arr.push(arr[i])\n",
    "}\n",
    "console.log('Values that are even in the given Array', my_arr)"
   ]
  },
  {
   "cell_type": "markdown",
   "metadata": {},
   "source": [
    "## 9. print all the odd numbers in an Array."
   ]
  },
  {
   "cell_type": "code",
   "execution_count": 13,
   "metadata": {},
   "outputs": [
    {
     "name": "stdout",
     "output_type": "stream",
     "text": [
      "Values that are odd in the given Array [ 3, 1, 5 ]\n"
     ]
    }
   ],
   "source": [
    "var arr = [3, 2, 1, 5, 4]\n",
    "var my_arr = [];\n",
    "\n",
    "for(var i=0; i < arr.length; i++) {\n",
    "    if(arr[i] % 2 != 0) my_arr.push(arr[i])\n",
    "}\n",
    "console.log('Values that are odd in the given Array', my_arr)"
   ]
  },
  {
   "cell_type": "markdown",
   "metadata": {},
   "source": [
    "## 10. print all the positive numbers in an array."
   ]
  },
  {
   "cell_type": "code",
   "execution_count": 14,
   "metadata": {},
   "outputs": [
    {
     "name": "stdout",
     "output_type": "stream",
     "text": [
      "Values that are positive in the given Array [ 3, 2, 5 ]\n"
     ]
    }
   ],
   "source": [
    "var arr = [3, 2, -1, 5, -4]\n",
    "var my_arr = [];\n",
    "\n",
    "for(var i=0; i < arr.length; i++) {\n",
    "    if(arr[i] > 0) my_arr.push(arr[i])\n",
    "}\n",
    "console.log('Values that are positive in the given Array', my_arr)"
   ]
  },
  {
   "cell_type": "markdown",
   "metadata": {},
   "source": [
    "## 11. search the given number is there in an array or not."
   ]
  },
  {
   "cell_type": "code",
   "execution_count": 15,
   "metadata": {},
   "outputs": [
    {
     "name": "stdout",
     "output_type": "stream",
     "text": [
      "5  exist in the given array [ 3, 2, -1, 5, -4 ]\n"
     ]
    }
   ],
   "source": [
    "var arr = [3, 2, -1, 5, -4]\n",
    "var val = 5;\n",
    "\n",
    "for(var i=0; i < arr.length; i++) {\n",
    "    if(arr[i] == val) console.log(String(val), ' exist in the given array', arr)\n",
    "}\n"
   ]
  },
  {
   "cell_type": "markdown",
   "metadata": {},
   "source": [
    "## 12. print total number of times an element found in an Array."
   ]
  },
  {
   "cell_type": "code",
   "execution_count": 17,
   "metadata": {},
   "outputs": [
    {
     "name": "stdout",
     "output_type": "stream",
     "text": [
      "5  exist in the given array [ 3, 2, -1, 5, -4, 5, 5 ] and occured 3 times in the array\n"
     ]
    }
   ],
   "source": [
    "var arr = [3, 2, -1, 5, -4, 5, 5]\n",
    "var val = 5;\n",
    "var k = 0;\n",
    "\n",
    "for(var i=0; i < arr.length; i++) {\n",
    "    if(arr[i] == val) k++;\n",
    "}\n",
    "\n",
    "console.log(String(val), ' exist in the given array', arr, 'and occured', String(k), 'times in the array')"
   ]
  },
  {
   "cell_type": "markdown",
   "metadata": {},
   "source": [
    "## 13. print index of an element in an Array."
   ]
  },
  {
   "cell_type": "code",
   "execution_count": 19,
   "metadata": {},
   "outputs": [
    {
     "name": "stdout",
     "output_type": "stream",
     "text": [
      "Index of the number 5 is 3\n"
     ]
    }
   ],
   "source": [
    "var arr = [3, 2, -1, 5, -4]\n",
    "var val = 5;\n",
    "\n",
    "for(var i=0; i < arr.length; i++) {\n",
    "    if(arr[i] == val) console.log('Index of the number',String(val),'is', String(i))\n",
    "}\n",
    "\n"
   ]
  },
  {
   "cell_type": "code",
   "execution_count": null,
   "metadata": {},
   "outputs": [],
   "source": []
  }
 ],
 "metadata": {
  "kernelspec": {
   "display_name": "Javascript (Node.js)",
   "language": "javascript",
   "name": "javascript"
  },
  "language_info": {
   "file_extension": ".js",
   "mimetype": "application/javascript",
   "name": "javascript",
   "version": "8.9.4"
  }
 },
 "nbformat": 4,
 "nbformat_minor": 2
}
