{
 "cells": [
  {
   "cell_type": "markdown",
   "metadata": {},
   "source": [
    "1. Write a program to print 1 to 10 numbers using a while loop\n",
    "2. Write a program to print 10 to 1 numbers using a while loop\n",
    "3. Write a program to print 5 to 15 numbers using a while loop\n",
    "4. Write a program to print 15 to 10 numbers using a while loop\n",
    "5. Write a program to print 1 to 10 even numbers using a while loop\n",
    "6. Write a program to print 1 to 10 odd numbers using a while loop\n",
    "7. Write a program to print first ten multiples of 4 using a while loop\n",
    "(multiples of 4 are 4,8,12,16,20,.....)\n",
    "8. Write a program to print multiplication table of 6 using while loop\n",
    "9. Write a program to print factors of 24 using while loop\n",
    "(factors of 24 are 1,2,3,4,6,8,12,24)\n",
    "10. Write a program to print the number of factors of 24 using\n",
    "while loop\n",
    "(number of factors for 24 is 8)\n",
    "11. Write a program to print 1 to 10 numbers using a for loop\n",
    "12. Write a program to print 10 to 1 numbers using a for loop\n",
    "13. Write a program to print all numbers from 1 to a given number\n",
    "14. Write a program to print 1 to 10 even numbers using a for loop\n",
    "15. Write a program to print 1 to 10 odd numbers using a for loop\n",
    "16. Write a program to print first 10 multiples of 3\n",
    "17. Write a program to print multiplication table of 6\n",
    "18. Write a program to print factorial of a given number\n",
    "19. Write a program to print all the factors of a given number\n",
    "20. Write a program to print the count of factors of a given number\n",
    "21. Write a program to check a given number is a prime number or not\n",
    "22. a program to print reverse of digits of a number\n",
    "23. a program to read 5 numbers and print the maximum and minimum number\n",
    "24. a program to read 5 numbers and print the sum of all entered numbers\n",
    "25. a program to print average of n numbers\n",
    "26. a program to read 5 numbers and print only the even numbers\n",
    "27. Write a program to print the fibonacci number series upto a given number\n",
    "Expected output: 17 011235813\n",
    "28. Write a program to check a given number is armstrong number or not Ex:\n",
    "153 is an armstrong number\n",
    "29. Write a program to print the reverse of a given number\n",
    "30. Write a program to check a given number is palindrome number or not\n",
    "31.Write a program to print the number at 100’s place\n",
    "32. Write a program to print the nCr of given ‘n’ and ‘r’ 33)Print largest digit of Given number.s\n",
    "34)print Number of Digits in given number.\n",
    "35)sum of all digits of given number.\n",
    "36)print the binary value of 8.\n"
   ]
  },
  {
   "cell_type": "markdown",
   "metadata": {},
   "source": [
    "1. Write a program to print 1 to 10 numbers using a while loop"
   ]
  },
  {
   "cell_type": "code",
   "execution_count": null,
   "metadata": {},
   "outputs": [],
   "source": [
    "var i = 1\n",
    "\n",
    "while(i <= 10) {\n",
    "    window.print(i);\n",
    "    i++;\n",
    "}"
   ]
  },
  {
   "cell_type": "code",
   "execution_count": null,
   "metadata": {},
   "outputs": [],
   "source": []
  }
 ],
 "metadata": {
  "kernelspec": {
   "display_name": "Javascript (Node.js)",
   "language": "javascript",
   "name": "javascript"
  }
 },
 "nbformat": 4,
 "nbformat_minor": 2
}
