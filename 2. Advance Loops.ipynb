{
 "cells": [
  {
   "cell_type": "markdown",
   "metadata": {},
   "source": [
    "## Print Asterisks"
   ]
  },
  {
   "cell_type": "code",
   "execution_count": 8,
   "metadata": {},
   "outputs": [
    {
     "name": "stdout",
     "output_type": "stream",
     "text": [
      "* * * * * \n",
      "* * * * * \n",
      "* * * * * \n",
      "* * * * * \n",
      "* * * * * \n"
     ]
    }
   ],
   "source": [
    "for(var i = 1; i <= 5; i++) {\n",
    "    var sum = ''\n",
    "    for(var j=1; j <= 5; j++) {\n",
    "        sum += '* '\n",
    "    }\n",
    "    console.log(sum)\n",
    "}"
   ]
  },
  {
   "cell_type": "markdown",
   "metadata": {},
   "source": [
    "## Print @"
   ]
  },
  {
   "cell_type": "code",
   "execution_count": 9,
   "metadata": {},
   "outputs": [
    {
     "name": "stdout",
     "output_type": "stream",
     "text": [
      "@ @ @ @ @ \n",
      "@ @ @ @ @ \n",
      "@ @ @ @ @ \n",
      "@ @ @ @ @ \n",
      "@ @ @ @ @ \n"
     ]
    }
   ],
   "source": [
    "for(var i = 1; i <= 5; i++) {\n",
    "    var sum = ''\n",
    "    for(var j=1; j <= 5; j++) {\n",
    "        sum += '@ '\n",
    "    }\n",
    "    console.log(sum)\n",
    "}"
   ]
  },
  {
   "cell_type": "markdown",
   "metadata": {},
   "source": [
    "## Print 12345"
   ]
  },
  {
   "cell_type": "code",
   "execution_count": 13,
   "metadata": {},
   "outputs": [
    {
     "name": "stdout",
     "output_type": "stream",
     "text": [
      "1 2 3 4 5 \n",
      "1 2 3 4 5 \n",
      "1 2 3 4 5 \n",
      "1 2 3 4 5 \n",
      "1 2 3 4 5 \n"
     ]
    }
   ],
   "source": [
    "for(var i = 1; i <= 5; i++) {\n",
    "    var sum = ''\n",
    "    for(var j=1; j <= 5; j++) {\n",
    "        sum += String(j) + ' '\n",
    "    }\n",
    "    console.log(sum)\n",
    "}"
   ]
  },
  {
   "cell_type": "markdown",
   "metadata": {},
   "source": [
    "## Print Numbers in Increasing order with repetetion"
   ]
  },
  {
   "cell_type": "code",
   "execution_count": 14,
   "metadata": {},
   "outputs": [
    {
     "name": "stdout",
     "output_type": "stream",
     "text": [
      "1 1 1 1 1 \n",
      "2 2 2 2 2 \n",
      "3 3 3 3 3 \n",
      "4 4 4 4 4 \n",
      "5 5 5 5 5 \n"
     ]
    }
   ],
   "source": [
    "for(var i = 1; i <= 5; i++) {\n",
    "    var sum = ''\n",
    "    for(var j=1; j <= 5; j++) {\n",
    "        sum += String(i) + ' '\n",
    "    }\n",
    "    console.log(sum)\n",
    "}"
   ]
  },
  {
   "cell_type": "markdown",
   "metadata": {},
   "source": [
    "## Print * as a Triangle"
   ]
  },
  {
   "cell_type": "code",
   "execution_count": 16,
   "metadata": {},
   "outputs": [
    {
     "name": "stdout",
     "output_type": "stream",
     "text": [
      " * \n",
      " *  * \n",
      " *  *  * \n",
      " *  *  *  * \n",
      " *  *  *  *  * \n"
     ]
    }
   ],
   "source": [
    "for(var i = 1; i <= 5; i++) {\n",
    "    var sum = ''\n",
    "    for(var j=i; j > 0; j--) {\n",
    "        sum += ' * '\n",
    "    }\n",
    "    console.log(sum)\n",
    "}"
   ]
  },
  {
   "cell_type": "markdown",
   "metadata": {},
   "source": [
    "## Print Numbers in Increasing order as Triangle"
   ]
  },
  {
   "cell_type": "code",
   "execution_count": 25,
   "metadata": {},
   "outputs": [
    {
     "name": "stdout",
     "output_type": "stream",
     "text": [
      "\n",
      "1\n",
      "12\n",
      "123\n",
      "1234\n",
      "12345\n"
     ]
    }
   ],
   "source": [
    "for(var i = 1; i <= 6; i++) {\n",
    "    var sum = ''\n",
    "    for(var j=1; j < i; j++) {\n",
    "        sum += String(j)\n",
    "    }\n",
    "    console.log(sum)\n",
    "}"
   ]
  },
  {
   "cell_type": "markdown",
   "metadata": {},
   "source": [
    "## Print numbers in descending order with repetetion in the form of Triangle"
   ]
  },
  {
   "cell_type": "code",
   "execution_count": 32,
   "metadata": {},
   "outputs": [
    {
     "name": "stdout",
     "output_type": "stream",
     "text": [
      "55555\n",
      "4444\n",
      "333\n",
      "22\n",
      "1\n"
     ]
    }
   ],
   "source": [
    "for(var i = 5; i > 0; i--) {\n",
    "    var sum = ''\n",
    "    for(var j=1; j <= i; j++) {\n",
    "        sum += String(i)\n",
    "    }\n",
    "    console.log(sum)\n",
    "}"
   ]
  },
  {
   "cell_type": "markdown",
   "metadata": {},
   "source": [
    "## Print numbers in descending order without repetetion in the form of Triangle"
   ]
  },
  {
   "cell_type": "code",
   "execution_count": 33,
   "metadata": {},
   "outputs": [
    {
     "name": "stdout",
     "output_type": "stream",
     "text": [
      "12345\n",
      "1234\n",
      "123\n",
      "12\n",
      "1\n",
      "\n"
     ]
    }
   ],
   "source": [
    "for(var i = 6; i > 0; i--) {\n",
    "    var sum = ''\n",
    "    for(var j=1; j < i; j++) {\n",
    "        sum += String(j)\n",
    "    }\n",
    "    console.log(sum)\n",
    "}"
   ]
  },
  {
   "cell_type": "markdown",
   "metadata": {},
   "source": [
    "## Print numbers in descending order with repetetion in the form of Triangle"
   ]
  },
  {
   "cell_type": "code",
   "execution_count": 53,
   "metadata": {},
   "outputs": [
    {
     "name": "stdout",
     "output_type": "stream",
     "text": [
      "5\n",
      "44\n",
      "333\n",
      "2222\n",
      "11111\n"
     ]
    }
   ],
   "source": [
    "var k = 0;\n",
    "for(var i = 5; i > 0; i--) {\n",
    "    var sum = ''\n",
    "    k++;\n",
    "    for(var j=0; j < k; j++) {\n",
    "        sum += String(i)\n",
    "    }\n",
    "    console.log(sum)\n",
    "}"
   ]
  },
  {
   "cell_type": "markdown",
   "metadata": {},
   "source": [
    "## Triangle of Numbers in Descending order in the row"
   ]
  },
  {
   "cell_type": "code",
   "execution_count": 57,
   "metadata": {},
   "outputs": [
    {
     "name": "stdout",
     "output_type": "stream",
     "text": [
      "5\n",
      "54\n",
      "543\n",
      "5432\n",
      "54321\n"
     ]
    }
   ],
   "source": [
    "var k = 6;\n",
    "for(var i = 5; i > 0; i--) {\n",
    "    var sum = ''\n",
    "    k--;\n",
    "    for(var j=5; j >= k; j--) {\n",
    "        sum += String(j)\n",
    "    }\n",
    "    console.log(sum)\n",
    "}"
   ]
  },
  {
   "cell_type": "markdown",
   "metadata": {},
   "source": [
    "## Reverse Triangle with *"
   ]
  },
  {
   "cell_type": "code",
   "execution_count": 59,
   "metadata": {},
   "outputs": [
    {
     "name": "stdout",
     "output_type": "stream",
     "text": [
      " *  *  *  *  * \n",
      " *  *  *  * \n",
      " *  *  * \n",
      " *  * \n",
      " * \n"
     ]
    }
   ],
   "source": [
    "for(var i = 5; i > 0; i--) {\n",
    "    var sum = ''\n",
    "    for(var j=i; j > 0; j--) {\n",
    "        sum += ' * '\n",
    "    }\n",
    "    console.log(sum)\n",
    "}"
   ]
  },
  {
   "cell_type": "markdown",
   "metadata": {},
   "source": [
    "## Triangle of Numbers with Repetetion across number and increment across columns"
   ]
  },
  {
   "cell_type": "code",
   "execution_count": 66,
   "metadata": {},
   "outputs": [
    {
     "name": "stdout",
     "output_type": "stream",
     "text": [
      "     1\n",
      "    2 2\n",
      "   3 3 3\n",
      "  4 4 4 4\n",
      " 5 5 5 5 5\n"
     ]
    }
   ],
   "source": [
    "for(var i=1; i<=5; i++) {\n",
    "    var char=' ';\n",
    "    var sum = '';\n",
    "    var num = '';\n",
    "    \n",
    "    for(var j=5-i; j > 0; j--) {\n",
    "        sum += char\n",
    "    }\n",
    "    \n",
    "    for(var k=1; k <= i; k++) {\n",
    "        num += char + String(i)\n",
    "    }\n",
    "    \n",
    "    console.log(sum + num)\n",
    "}"
   ]
  },
  {
   "cell_type": "markdown",
   "metadata": {},
   "source": [
    "## Triangle of Numbers without Repetetion across number and increment across columns"
   ]
  },
  {
   "cell_type": "code",
   "execution_count": 67,
   "metadata": {},
   "outputs": [
    {
     "name": "stdout",
     "output_type": "stream",
     "text": [
      "     1\n",
      "    1 2\n",
      "   1 2 3\n",
      "  1 2 3 4\n",
      " 1 2 3 4 5\n"
     ]
    }
   ],
   "source": [
    "for(var i=1; i<=5; i++) {\n",
    "    var char=' ';\n",
    "    var sum = '';\n",
    "    var num = '';\n",
    "    \n",
    "    for(var j=5-i; j > 0; j--) {\n",
    "        sum += char\n",
    "    }\n",
    "    \n",
    "    for(var k=1; k <= i; k++) {\n",
    "        num += char + String(k)\n",
    "    }\n",
    "    \n",
    "    console.log(sum + num)\n",
    "}"
   ]
  },
  {
   "cell_type": "markdown",
   "metadata": {},
   "source": [
    "## Triangle of Numbers without Repetetion across number and without repetetion across columns"
   ]
  },
  {
   "cell_type": "code",
   "execution_count": 72,
   "metadata": {},
   "outputs": [
    {
     "name": "stdout",
     "output_type": "stream",
     "text": [
      "     1\n",
      "    2 3\n",
      "   4 5 6\n",
      "  7 8 9 10\n",
      " 11 12 13 14 15\n"
     ]
    }
   ],
   "source": [
    "var l = 1;\n",
    "for(var i=1; i<=5; i++) {\n",
    "    var char=' ';\n",
    "    var sum = '';\n",
    "    var num = '';\n",
    "    for(var j=5-i; j > 0; j--) {\n",
    "        sum += char\n",
    "    }\n",
    "    \n",
    "    for(var k=i; k > 0; k--) {\n",
    "        num += char + String(l);\n",
    "        l++;\n",
    "    }\n",
    "    \n",
    "    console.log(sum + num)\n",
    "}"
   ]
  },
  {
   "cell_type": "markdown",
   "metadata": {},
   "source": [
    "## Triangle of *"
   ]
  },
  {
   "cell_type": "code",
   "execution_count": 75,
   "metadata": {},
   "outputs": [
    {
     "name": "stdout",
     "output_type": "stream",
     "text": [
      "     *\n",
      "    * *\n",
      "   * * *\n",
      "  * * * *\n",
      " * * * * *\n"
     ]
    }
   ],
   "source": [
    "var l = \"*\";\n",
    "for(var i=1; i<=5; i++) {\n",
    "    var char=' ';\n",
    "    var sum = '';\n",
    "    var num = '';\n",
    "    for(var j=5-i; j > 0; j--) {\n",
    "        sum += char\n",
    "    }\n",
    "    \n",
    "    for(var k=i; k > 0; k--) {\n",
    "        num += char + l;\n",
    "    }\n",
    "    \n",
    "    console.log(sum + num)\n",
    "}"
   ]
  },
  {
   "cell_type": "code",
   "execution_count": 82,
   "metadata": {},
   "outputs": [
    {
     "name": "stdout",
     "output_type": "stream",
     "text": [
      "      1\n",
      "           2\n",
      "               3\n",
      "                  4\n",
      "                    5\n",
      "                     6\n",
      "                     7\n"
     ]
    }
   ],
   "source": [
    "for(var i=1; i <= 7; i++) {\n",
    "    var space = ' ';\n",
    "    for(var j=(7-i); j > 0; j--) {\n",
    "        sum += char;\n",
    "    }\n",
    "    console.log(sum + String(i))\n",
    "}"
   ]
  },
  {
   "cell_type": "code",
   "execution_count": null,
   "metadata": {},
   "outputs": [],
   "source": []
  }
 ],
 "metadata": {
  "kernelspec": {
   "display_name": "Javascript (Node.js)",
   "language": "javascript",
   "name": "javascript"
  },
  "language_info": {
   "file_extension": ".js",
   "mimetype": "application/javascript",
   "name": "javascript",
   "version": "8.9.4"
  }
 },
 "nbformat": 4,
 "nbformat_minor": 2
}
