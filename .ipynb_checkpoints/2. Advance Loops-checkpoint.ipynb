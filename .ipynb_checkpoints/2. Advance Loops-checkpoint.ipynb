{
 "cells": [
  {
   "cell_type": "markdown",
   "metadata": {},
   "source": [
    "## Print Asterisks"
   ]
  },
  {
   "cell_type": "code",
   "execution_count": 8,
   "metadata": {},
   "outputs": [
    {
     "name": "stdout",
     "output_type": "stream",
     "text": [
      "* * * * * \n",
      "* * * * * \n",
      "* * * * * \n",
      "* * * * * \n",
      "* * * * * \n"
     ]
    }
   ],
   "source": [
    "for(var i = 1; i <= 5; i++) {\n",
    "    var sum = ''\n",
    "    for(var j=1; j <= 5; j++) {\n",
    "        sum += '* '\n",
    "    }\n",
    "    console.log(sum)\n",
    "}"
   ]
  },
  {
   "cell_type": "markdown",
   "metadata": {},
   "source": [
    "## Print @"
   ]
  },
  {
   "cell_type": "code",
   "execution_count": 9,
   "metadata": {},
   "outputs": [
    {
     "name": "stdout",
     "output_type": "stream",
     "text": [
      "@ @ @ @ @ \n",
      "@ @ @ @ @ \n",
      "@ @ @ @ @ \n",
      "@ @ @ @ @ \n",
      "@ @ @ @ @ \n"
     ]
    }
   ],
   "source": [
    "for(var i = 1; i <= 5; i++) {\n",
    "    var sum = ''\n",
    "    for(var j=1; j <= 5; j++) {\n",
    "        sum += '@ '\n",
    "    }\n",
    "    console.log(sum)\n",
    "}"
   ]
  },
  {
   "cell_type": "markdown",
   "metadata": {},
   "source": [
    "## Print 12345"
   ]
  },
  {
   "cell_type": "code",
   "execution_count": 13,
   "metadata": {},
   "outputs": [
    {
     "name": "stdout",
     "output_type": "stream",
     "text": [
      "1 2 3 4 5 \n",
      "1 2 3 4 5 \n",
      "1 2 3 4 5 \n",
      "1 2 3 4 5 \n",
      "1 2 3 4 5 \n"
     ]
    }
   ],
   "source": [
    "for(var i = 1; i <= 5; i++) {\n",
    "    var sum = ''\n",
    "    for(var j=1; j <= 5; j++) {\n",
    "        sum += String(j) + ' '\n",
    "    }\n",
    "    console.log(sum)\n",
    "}"
   ]
  },
  {
   "cell_type": "markdown",
   "metadata": {},
   "source": [
    "## Print Numbers in Increasing order with repetetion"
   ]
  },
  {
   "cell_type": "code",
   "execution_count": 14,
   "metadata": {},
   "outputs": [
    {
     "name": "stdout",
     "output_type": "stream",
     "text": [
      "1 1 1 1 1 \n",
      "2 2 2 2 2 \n",
      "3 3 3 3 3 \n",
      "4 4 4 4 4 \n",
      "5 5 5 5 5 \n"
     ]
    }
   ],
   "source": [
    "for(var i = 1; i <= 5; i++) {\n",
    "    var sum = ''\n",
    "    for(var j=1; j <= 5; j++) {\n",
    "        sum += String(i) + ' '\n",
    "    }\n",
    "    console.log(sum)\n",
    "}"
   ]
  },
  {
   "cell_type": "markdown",
   "metadata": {},
   "source": [
    "## Print * as a Triangle"
   ]
  },
  {
   "cell_type": "code",
   "execution_count": 16,
   "metadata": {},
   "outputs": [
    {
     "name": "stdout",
     "output_type": "stream",
     "text": [
      " * \n",
      " *  * \n",
      " *  *  * \n",
      " *  *  *  * \n",
      " *  *  *  *  * \n"
     ]
    }
   ],
   "source": [
    "for(var i = 1; i <= 5; i++) {\n",
    "    var sum = ''\n",
    "    for(var j=i; j > 0; j--) {\n",
    "        sum += ' * '\n",
    "    }\n",
    "    console.log(sum)\n",
    "}"
   ]
  },
  {
   "cell_type": "markdown",
   "metadata": {},
   "source": [
    "## Print Numbers in Increasing order as Triangle"
   ]
  },
  {
   "cell_type": "code",
   "execution_count": 25,
   "metadata": {},
   "outputs": [
    {
     "name": "stdout",
     "output_type": "stream",
     "text": [
      "\n",
      "1\n",
      "12\n",
      "123\n",
      "1234\n",
      "12345\n"
     ]
    }
   ],
   "source": [
    "for(var i = 1; i <= 6; i++) {\n",
    "    var sum = ''\n",
    "    for(var j=1; j < i; j++) {\n",
    "        sum += String(j)\n",
    "    }\n",
    "    console.log(sum)\n",
    "}"
   ]
  },
  {
   "cell_type": "markdown",
   "metadata": {},
   "source": [
    "## Print numbers in descending order with repetetion in the form of Triangle"
   ]
  },
  {
   "cell_type": "code",
   "execution_count": 32,
   "metadata": {},
   "outputs": [
    {
     "name": "stdout",
     "output_type": "stream",
     "text": [
      "55555\n",
      "4444\n",
      "333\n",
      "22\n",
      "1\n"
     ]
    }
   ],
   "source": [
    "for(var i = 5; i > 0; i--) {\n",
    "    var sum = ''\n",
    "    for(var j=1; j <= i; j++) {\n",
    "        sum += String(i)\n",
    "    }\n",
    "    console.log(sum)\n",
    "}"
   ]
  },
  {
   "cell_type": "markdown",
   "metadata": {},
   "source": [
    "## Print numbers in descending order without repetetion in the form of Triangle"
   ]
  },
  {
   "cell_type": "code",
   "execution_count": 33,
   "metadata": {},
   "outputs": [
    {
     "name": "stdout",
     "output_type": "stream",
     "text": [
      "12345\n",
      "1234\n",
      "123\n",
      "12\n",
      "1\n",
      "\n"
     ]
    }
   ],
   "source": [
    "for(var i = 6; i > 0; i--) {\n",
    "    var sum = ''\n",
    "    for(var j=1; j < i; j++) {\n",
    "        sum += String(j)\n",
    "    }\n",
    "    console.log(sum)\n",
    "}"
   ]
  },
  {
   "cell_type": "markdown",
   "metadata": {},
   "source": [
    "## Print numbers in descending order with repetetion in the form of Triangle"
   ]
  },
  {
   "cell_type": "code",
   "execution_count": 53,
   "metadata": {},
   "outputs": [
    {
     "name": "stdout",
     "output_type": "stream",
     "text": [
      "5\n",
      "44\n",
      "333\n",
      "2222\n",
      "11111\n"
     ]
    }
   ],
   "source": [
    "var k = 0;\n",
    "for(var i = 5; i > 0; i--) {\n",
    "    var sum = ''\n",
    "    k++;\n",
    "    for(var j=0; j < k; j++) {\n",
    "        sum += String(i)\n",
    "    }\n",
    "    console.log(sum)\n",
    "}"
   ]
  },
  {
   "cell_type": "markdown",
   "metadata": {},
   "source": [
    "## Triangle of Numbers in Descending order in the row"
   ]
  },
  {
   "cell_type": "code",
   "execution_count": 57,
   "metadata": {},
   "outputs": [
    {
     "name": "stdout",
     "output_type": "stream",
     "text": [
      "5\n",
      "54\n",
      "543\n",
      "5432\n",
      "54321\n"
     ]
    }
   ],
   "source": [
    "var k = 6;\n",
    "for(var i = 5; i > 0; i--) {\n",
    "    var sum = ''\n",
    "    k--;\n",
    "    for(var j=5; j >= k; j--) {\n",
    "        sum += String(j)\n",
    "    }\n",
    "    console.log(sum)\n",
    "}"
   ]
  },
  {
   "cell_type": "markdown",
   "metadata": {},
   "source": [
    "## Reverse Triangle with *"
   ]
  },
  {
   "cell_type": "code",
   "execution_count": 59,
   "metadata": {},
   "outputs": [
    {
     "name": "stdout",
     "output_type": "stream",
     "text": [
      " *  *  *  *  * \n",
      " *  *  *  * \n",
      " *  *  * \n",
      " *  * \n",
      " * \n"
     ]
    }
   ],
   "source": [
    "for(var i = 5; i > 0; i--) {\n",
    "    var sum = ''\n",
    "    for(var j=i; j > 0; j--) {\n",
    "        sum += ' * '\n",
    "    }\n",
    "    console.log(sum)\n",
    "}"
   ]
  },
  {
   "cell_type": "markdown",
   "metadata": {},
   "source": [
    "## Triangle of Numbers with Repetetion across number and increment across columns"
   ]
  },
  {
   "cell_type": "code",
   "execution_count": 66,
   "metadata": {},
   "outputs": [
    {
     "name": "stdout",
     "output_type": "stream",
     "text": [
      "     1\n",
      "    2 2\n",
      "   3 3 3\n",
      "  4 4 4 4\n",
      " 5 5 5 5 5\n"
     ]
    }
   ],
   "source": [
    "for(var i=1; i<=5; i++) {\n",
    "    var char=' ';\n",
    "    var sum = '';\n",
    "    var num = '';\n",
    "    \n",
    "    for(var j=5-i; j > 0; j--) {\n",
    "        sum += char\n",
    "    }\n",
    "    \n",
    "    for(var k=1; k <= i; k++) {\n",
    "        num += char + String(i)\n",
    "    }\n",
    "    \n",
    "    console.log(sum + num)\n",
    "}"
   ]
  },
  {
   "cell_type": "markdown",
   "metadata": {},
   "source": [
    "## Triangle of Numbers without Repetetion across number and increment across columns"
   ]
  },
  {
   "cell_type": "code",
   "execution_count": 67,
   "metadata": {},
   "outputs": [
    {
     "name": "stdout",
     "output_type": "stream",
     "text": [
      "     1\n",
      "    1 2\n",
      "   1 2 3\n",
      "  1 2 3 4\n",
      " 1 2 3 4 5\n"
     ]
    }
   ],
   "source": [
    "for(var i=1; i<=5; i++) {\n",
    "    var char=' ';\n",
    "    var sum = '';\n",
    "    var num = '';\n",
    "    \n",
    "    for(var j=5-i; j > 0; j--) {\n",
    "        sum += char\n",
    "    }\n",
    "    \n",
    "    for(var k=1; k <= i; k++) {\n",
    "        num += char + String(k)\n",
    "    }\n",
    "    \n",
    "    console.log(sum + num)\n",
    "}"
   ]
  },
  {
   "cell_type": "markdown",
   "metadata": {},
   "source": [
    "## Triangle of Numbers without Repetetion across number and without repetetion across columns"
   ]
  },
  {
   "cell_type": "code",
   "execution_count": 72,
   "metadata": {},
   "outputs": [
    {
     "name": "stdout",
     "output_type": "stream",
     "text": [
      "     1\n",
      "    2 3\n",
      "   4 5 6\n",
      "  7 8 9 10\n",
      " 11 12 13 14 15\n"
     ]
    }
   ],
   "source": [
    "var l = 1;\n",
    "for(var i=1; i<=5; i++) {\n",
    "    var char=' ';\n",
    "    var sum = '';\n",
    "    var num = '';\n",
    "    for(var j=5-i; j > 0; j--) {\n",
    "        sum += char\n",
    "    }\n",
    "    \n",
    "    for(var k=i; k > 0; k--) {\n",
    "        num += char + String(l);\n",
    "        l++;\n",
    "    }\n",
    "    \n",
    "    console.log(sum + num)\n",
    "}"
   ]
  },
  {
   "cell_type": "markdown",
   "metadata": {},
   "source": [
    "## Triangle of *"
   ]
  },
  {
   "cell_type": "code",
   "execution_count": 75,
   "metadata": {},
   "outputs": [
    {
     "name": "stdout",
     "output_type": "stream",
     "text": [
      "     *\n",
      "    * *\n",
      "   * * *\n",
      "  * * * *\n",
      " * * * * *\n"
     ]
    }
   ],
   "source": [
    "var l = \"*\";\n",
    "for(var i=1; i<=5; i++) {\n",
    "    var char=' ';\n",
    "    var sum = '';\n",
    "    var num = '';\n",
    "    for(var j=5-i; j > 0; j--) {\n",
    "        sum += char\n",
    "    }\n",
    "    \n",
    "    for(var k=i; k > 0; k--) {\n",
    "        num += char + l;\n",
    "    }\n",
    "    \n",
    "    console.log(sum + num)\n",
    "}"
   ]
  },
  {
   "cell_type": "code",
   "execution_count": 35,
   "metadata": {},
   "outputs": [],
   "source": [
    "function palind( arr ) {\n",
    "    var my_arr = [];\n",
    "    for(var i=0; i < arr.length-1; i++) {\n",
    "        my_arr.splice(parseInt( arr.length / 2 ), 0, arr[i] + arr[i+1]);\n",
    "    }\n",
    "    return my_arr\n",
    "}"
   ]
  },
  {
   "cell_type": "markdown",
   "metadata": {},
   "source": [
    "## Last Two Patterns are Pending - Need to get a solution for it"
   ]
  },
  {
   "cell_type": "code",
   "execution_count": 110,
   "metadata": {},
   "outputs": [
    {
     "name": "stdout",
     "output_type": "stream",
     "text": [
      "[ 1, 1 ]\n",
      "[ 2 ]\n",
      "[ 2 ]\n",
      "*********\n",
      "....................\n",
      "[ 1, 2, 1 ]\n",
      "[ 3, 3 ]\n",
      "[ 3, 3 ]\n",
      "*********\n",
      "....................\n",
      "[ 1, 3, 3, 1 ]\n",
      "[ 4, 6, 4 ]\n",
      "[ 4, 6, 4 ]\n",
      "*********\n",
      "....................\n",
      "[ 1, 4, 6, 4, 1 ]\n",
      "[ 5, 10, 5, 10 ]\n",
      "[ 5, 10, 5, 10 ]\n",
      "*********\n",
      "....................\n",
      "[ 1, 5, 10, 5, 10, 1 ]\n",
      "[ 6, 15, 15, 11, 15 ]\n",
      "[ 6, 15, 15, 11, 15 ]\n",
      "*********\n",
      "....................\n"
     ]
    }
   ],
   "source": [
    "arr = [1,1]\n",
    "for(var i=1; i<=5; i++) {\n",
    "    var char=' ';\n",
    "    var sum = '';\n",
    "    var num = '';\n",
    "    for(var j=5-i; j > 0; j--) {\n",
    "        sum += char\n",
    "    }\n",
    "    sum += char + String(1)\n",
    "    console.log(arr)   \n",
    "    arr = palind(arr)\n",
    "    console.log(arr)\n",
    "    for(var k=0; k < arr.length; k++) {\n",
    "        num += char + String(arr[k])\n",
    "    }\n",
    "    console.log(arr)\n",
    "    console.log('*********')\n",
    "    num += char + String(1);\n",
    "    \n",
    "    arr = [1].concat(arr);\n",
    "    arr = arr.concat([1])\n",
    "    console.log('....................');\n",
    "}"
   ]
  },
  {
   "cell_type": "markdown",
   "metadata": {},
   "source": [
    "## f. Swap numbers"
   ]
  },
  {
   "cell_type": "code",
   "execution_count": 114,
   "metadata": {},
   "outputs": [
    {
     "name": "stdout",
     "output_type": "stream",
     "text": [
      "x :  5\n",
      "y: 6\n",
      "x :  6\n",
      "y: 5\n"
     ]
    }
   ],
   "source": [
    "var x = 5\n",
    "var y = 6\n",
    "\n",
    "console.log('x : ', String(x))\n",
    "console.log('y:', String(y))\n",
    "\n",
    "var z;\n",
    "\n",
    "z = x;\n",
    "x = y;\n",
    "y = z\n",
    "\n",
    "console.log('x : ', String(x))\n",
    "console.log('y:', String(y))"
   ]
  },
  {
   "cell_type": "markdown",
   "metadata": {},
   "source": [
    "## Sum of all the digits in a given number"
   ]
  },
  {
   "cell_type": "code",
   "execution_count": 8,
   "metadata": {},
   "outputs": [
    {
     "name": "stdout",
     "output_type": "stream",
     "text": [
      "6\n"
     ]
    }
   ],
   "source": [
    "var num = 321;\n",
    "var sum = 0;\n",
    "\n",
    "while(num / 10 != 0) {\n",
    "    sum += (num % 10);\n",
    "    num = parseInt(num / 10);\n",
    "}\n",
    "sum += num;\n",
    "console.log(sum)"
   ]
  },
  {
   "cell_type": "markdown",
   "metadata": {},
   "source": [
    "## Reverse a Number"
   ]
  },
  {
   "cell_type": "code",
   "execution_count": 9,
   "metadata": {},
   "outputs": [
    {
     "name": "stdout",
     "output_type": "stream",
     "text": [
      "432\n"
     ]
    }
   ],
   "source": [
    "var sum = 0;\n",
    "var x = 234;\n",
    "var temp;\n",
    "var y;\n",
    "\n",
    "while(x/10 != 0) {\n",
    "    temp = parseInt(x / 10);\n",
    "    y = x % 10;\n",
    "    sum = sum * 10 + y;\n",
    "    x = temp;\n",
    "}\n",
    "\n",
    "console.log(sum)"
   ]
  },
  {
   "cell_type": "markdown",
   "metadata": {},
   "source": [
    "## (i) If a four-digit number is input through the keywords,write a program to obtain the sum of the first and last digit of this number."
   ]
  },
  {
   "cell_type": "code",
   "execution_count": 13,
   "metadata": {},
   "outputs": [
    {
     "name": "stdout",
     "output_type": "stream",
     "text": [
      "7\n"
     ]
    }
   ],
   "source": [
    "var x = 12346;\n",
    "\n",
    "var num_arr = String(x).split('')\n",
    "\n",
    "console.log(parseInt(num_arr[0]) + parseInt(num_arr[num_arr.length-1]))"
   ]
  },
  {
   "cell_type": "code",
   "execution_count": null,
   "metadata": {},
   "outputs": [],
   "source": []
  }
 ],
 "metadata": {
  "kernelspec": {
   "display_name": "Javascript (Node.js)",
   "language": "javascript",
   "name": "javascript"
  },
  "language_info": {
   "file_extension": ".js",
   "mimetype": "application/javascript",
   "name": "javascript",
   "version": "8.9.4"
  }
 },
 "nbformat": 4,
 "nbformat_minor": 2
}
