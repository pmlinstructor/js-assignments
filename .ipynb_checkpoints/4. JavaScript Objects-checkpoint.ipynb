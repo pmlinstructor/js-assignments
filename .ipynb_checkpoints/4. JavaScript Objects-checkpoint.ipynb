{
 "cells": [
  {
   "cell_type": "markdown",
   "metadata": {},
   "source": [
    "[\t\t{\n",
    "\"firstname\": \"praveen\",\n",
    "\"lastname\": \"gubbala\",\n",
    "\"age\": 36,\n",
    "\"gender\": \"male\",\n",
    "\"city\": \"hyd\"\n",
    "}, {\n",
    "\"firstname\": \"srikanth\",\n",
    "\"lastname\": \"gubbala\",\n",
    "\"age\": 32,\n",
    "\"gender\": \"male\",\n",
    "\"city\": \"bengaluru\"\n",
    "}, {\n",
    "\"firstname\": \"pradeep\",\n",
    "\"lastname\": \"reddy\",\n",
    "\"age\": 21,\n",
    "\"gender\": \"male\",\n",
    "\"city\": \"hyd\"\n",
    "}, {\n",
    "\"firstname\": \"mounika\",\n",
    "\"lastname\": \"mudiraj\",\n",
    "\"age\": 20,\n",
    "\"gender\": \"female\",\n",
    "\"city\": \"nalgonda\"\n",
    "}, {\n",
    "\"firstname\": \"nikhil\",\n",
    "\"lastname\": \"m\",\n",
    "\"age\": 22,\n",
    "\"gender\": \"male\",\n",
    "\"city\": \"guntur\"\n",
    "}, {\n",
    "\"firstname\": \"riya\",\n",
    "\"lastname\": \"bhadouria\",\n",
    "\"age\": 14,\n",
    "\"gender\": \"female\",\n",
    "\"city\": \"indore\"\n",
    "}]\n",
    "\n",
    "write javascript to print the following:\n",
    "1. print all the firstnames\n",
    "2. print all female students\n",
    "3. print the elder among all students\n",
    "4. print hyderbadi's only(\"hyd\")\n",
    "5. print the students under given age\n",
    "6. print the students in a given city\n",
    "7. Print the average age of all students\n",
    "8. Sort the array based on their lastname\n"
   ]
  },
  {
   "cell_type": "code",
   "execution_count": 3,
   "metadata": {},
   "outputs": [],
   "source": [
    "var myObj = [{\"firstname\": \"praveen\",\n",
    "\"lastname\": \"gubbala\",\n",
    "\"age\": 36,\n",
    "\"gender\": \"male\",\n",
    "\"city\": \"hyd\"\n",
    "}, {\n",
    "\"firstname\": \"srikanth\",\n",
    "\"lastname\": \"gubbala\",\n",
    "\"age\": 32,\n",
    "\"gender\": \"male\",\n",
    "\"city\": \"bengaluru\"\n",
    "}, {\n",
    "\"firstname\": \"pradeep\",\n",
    "\"lastname\": \"reddy\",\n",
    "\"age\": 21,\n",
    "\"gender\": \"male\",\n",
    "\"city\": \"hyd\"\n",
    "}, {\n",
    "\"firstname\": \"mounika\",\n",
    "\"lastname\": \"mudiraj\",\n",
    "\"age\": 20,\n",
    "\"gender\": \"female\",\n",
    "\"city\": \"nalgonda\"\n",
    "}, {\n",
    "\"firstname\": \"nikhil\",\n",
    "\"lastname\": \"m\",\n",
    "\"age\": 22,\n",
    "\"gender\": \"male\",\n",
    "\"city\": \"guntur\"\n",
    "}, {\n",
    "\"firstname\": \"riya\",\n",
    "\"lastname\": \"bhadouria\",\n",
    "\"age\": 14,\n",
    "\"gender\": \"female\",\n",
    "\"city\": \"indore\"\n",
    "}]"
   ]
  },
  {
   "cell_type": "markdown",
   "metadata": {},
   "source": [
    "## write javascript to print the following:\n",
    "\n",
    "    1. print all the firstnames\n",
    "    2. print all female students\n",
    "    3. print the elder among all students\n",
    "    4. print hyderbadi's only(\"hyd\")\n",
    "    5. print the students under given age\n",
    "    6. print the students in a given city\n",
    "    7. Print the average age of all students\n",
    "    8. Sort the array based on their lastname\n",
    "\n"
   ]
  },
  {
   "cell_type": "markdown",
   "metadata": {},
   "source": [
    "## 1. print all the firstnames"
   ]
  },
  {
   "cell_type": "code",
   "execution_count": 13,
   "metadata": {},
   "outputs": [
    {
     "name": "stdout",
     "output_type": "stream",
     "text": [
      "praveen\n",
      "srikanth\n",
      "pradeep\n",
      "mounika\n",
      "nikhil\n",
      "riya\n"
     ]
    }
   ],
   "source": [
    "myObj.forEach(function(ele) {\n",
    "    console.log(ele['firstname'])\n",
    "})"
   ]
  },
  {
   "cell_type": "markdown",
   "metadata": {},
   "source": [
    "## 2. print all female students"
   ]
  },
  {
   "cell_type": "code",
   "execution_count": 14,
   "metadata": {},
   "outputs": [
    {
     "name": "stdout",
     "output_type": "stream",
     "text": [
      "{ firstname: 'mounika',\n",
      "  lastname: 'mudiraj',\n",
      "  age: 20,\n",
      "  gender: 'female',\n",
      "  city: 'nalgonda' }\n",
      "{ firstname: 'riya',\n",
      "  lastname: 'bhadouria',\n",
      "  age: 14,\n",
      "  gender: 'female',\n",
      "  city: 'indore' }\n"
     ]
    }
   ],
   "source": [
    "myObj.forEach(function(ele) {\n",
    "    if(ele['gender']=='female') {\n",
    "        console.log(ele)\n",
    "    }\n",
    "})"
   ]
  },
  {
   "cell_type": "markdown",
   "metadata": {},
   "source": [
    "## 3. print the elder among all students"
   ]
  },
  {
   "cell_type": "code",
   "execution_count": 31,
   "metadata": {},
   "outputs": [],
   "source": [
    "var my_arr = []\n",
    "var max_age;\n",
    "myObj.forEach(function(ele) {\n",
    "    my_arr.push(parseInt(ele['age']))\n",
    "    my_arr.sort()\n",
    "})\n"
   ]
  },
  {
   "cell_type": "code",
   "execution_count": 33,
   "metadata": {},
   "outputs": [
    {
     "name": "stdout",
     "output_type": "stream",
     "text": [
      "{ firstname: 'praveen',\n",
      "  lastname: 'gubbala',\n",
      "  age: 36,\n",
      "  gender: 'male',\n",
      "  city: 'hyd' }\n"
     ]
    }
   ],
   "source": [
    "myObj.forEach(function(ele) {\n",
    "    if(ele['age'] == my_arr[my_arr.length-1]) {\n",
    "        console.log(ele)\n",
    "    }\n",
    "})\n"
   ]
  },
  {
   "cell_type": "markdown",
   "metadata": {},
   "source": [
    "## 4. print hyderbadi's only(\"hyd\")"
   ]
  },
  {
   "cell_type": "code",
   "execution_count": 34,
   "metadata": {},
   "outputs": [
    {
     "name": "stdout",
     "output_type": "stream",
     "text": [
      "{ firstname: 'praveen',\n",
      "  lastname: 'gubbala',\n",
      "  age: 36,\n",
      "  gender: 'male',\n",
      "  city: 'hyd' }\n",
      "{ firstname: 'pradeep',\n",
      "  lastname: 'reddy',\n",
      "  age: 21,\n",
      "  gender: 'male',\n",
      "  city: 'hyd' }\n"
     ]
    }
   ],
   "source": [
    "myObj.forEach(function(ele) {\n",
    "    if(ele['city'] == 'hyd') {\n",
    "        console.log(ele)\n",
    "    }\n",
    "})"
   ]
  },
  {
   "cell_type": "markdown",
   "metadata": {},
   "source": [
    "## 5. print the students under given age"
   ]
  },
  {
   "cell_type": "code",
   "execution_count": 38,
   "metadata": {},
   "outputs": [
    {
     "name": "stdout",
     "output_type": "stream",
     "text": [
      "{ firstname: 'pradeep',\n",
      "  lastname: 'reddy',\n",
      "  age: 21,\n",
      "  gender: 'male',\n",
      "  city: 'hyd' }\n",
      "{ firstname: 'mounika',\n",
      "  lastname: 'mudiraj',\n",
      "  age: 20,\n",
      "  gender: 'female',\n",
      "  city: 'nalgonda' }\n",
      "{ firstname: 'nikhil',\n",
      "  lastname: 'm',\n",
      "  age: 22,\n",
      "  gender: 'male',\n",
      "  city: 'guntur' }\n",
      "{ firstname: 'riya',\n",
      "  lastname: 'bhadouria',\n",
      "  age: 14,\n",
      "  gender: 'female',\n",
      "  city: 'indore' }\n"
     ]
    }
   ],
   "source": [
    "var given_age = 25;\n",
    "\n",
    "myObj.forEach(function(ele) {\n",
    "    if(ele['age'] < given_age) {\n",
    "        console.log(ele)\n",
    "    }\n",
    "})"
   ]
  },
  {
   "cell_type": "markdown",
   "metadata": {},
   "source": [
    "## 6. print the students in a given city"
   ]
  },
  {
   "cell_type": "code",
   "execution_count": 39,
   "metadata": {},
   "outputs": [
    {
     "name": "stdout",
     "output_type": "stream",
     "text": [
      "{ firstname: 'riya',\n",
      "  lastname: 'bhadouria',\n",
      "  age: 14,\n",
      "  gender: 'female',\n",
      "  city: 'indore' }\n"
     ]
    }
   ],
   "source": [
    "var given_city = 'indore';\n",
    "\n",
    "myObj.forEach(function(ele) {\n",
    "    if(ele['city'] == given_city) {\n",
    "        console.log(ele)\n",
    "    }\n",
    "})"
   ]
  },
  {
   "cell_type": "markdown",
   "metadata": {},
   "source": [
    "## 7. Print the average age of all students"
   ]
  },
  {
   "cell_type": "code",
   "execution_count": 42,
   "metadata": {},
   "outputs": [
    {
     "name": "stdout",
     "output_type": "stream",
     "text": [
      "Average age of all students 24.166666666666668\n"
     ]
    }
   ],
   "source": [
    "var my_arr = []\n",
    "var max_age;\n",
    "myObj.forEach(function(ele) {\n",
    "    my_arr.push(parseInt(ele['age']))\n",
    "    my_arr.sort()\n",
    "})\n",
    "\n",
    "console.log('Average age of all students %d', my_arr.reduce((a,b)=>a+b) / my_arr.length)"
   ]
  },
  {
   "cell_type": "markdown",
   "metadata": {},
   "source": [
    "## 8. Sort the array based on their lastname"
   ]
  },
  {
   "cell_type": "code",
   "execution_count": 52,
   "metadata": {},
   "outputs": [
    {
     "name": "stdout",
     "output_type": "stream",
     "text": [
      "[ { firstname: 'pradeep',\n",
      "    lastname: 'reddy',\n",
      "    age: 21,\n",
      "    gender: 'male',\n",
      "    city: 'hyd' },\n",
      "  { firstname: 'mounika',\n",
      "    lastname: 'mudiraj',\n",
      "    age: 20,\n",
      "    gender: 'female',\n",
      "    city: 'nalgonda' },\n",
      "  { firstname: 'nikhil',\n",
      "    lastname: 'm',\n",
      "    age: 22,\n",
      "    gender: 'male',\n",
      "    city: 'guntur' },\n",
      "  { firstname: 'praveen',\n",
      "    lastname: 'gubbala',\n",
      "    age: 36,\n",
      "    gender: 'male',\n",
      "    city: 'hyd' },\n",
      "  { firstname: 'srikanth',\n",
      "    lastname: 'gubbala',\n",
      "    age: 32,\n",
      "    gender: 'male',\n",
      "    city: 'bengaluru' },\n",
      "  { firstname: 'riya',\n",
      "    lastname: 'bhadouria',\n",
      "    age: 14,\n",
      "    gender: 'female',\n",
      "    city: 'indore' } ]\n"
     ]
    }
   ],
   "source": [
    "for(var i=0; i < myObj.length; i++) {\n",
    "    for(var j=i+1; j < myObj.length; j++) {\n",
    "        if(myObj[i]['lastname'] < myObj[j]['lastname']) {\n",
    "            [myObj[j], myObj[i]] = [myObj[i], myObj[j]]\n",
    "        }\n",
    "    }\n",
    "        \n",
    "}\n",
    "console.log(myObj)"
   ]
  },
  {
   "cell_type": "code",
   "execution_count": null,
   "metadata": {},
   "outputs": [],
   "source": []
  }
 ],
 "metadata": {
  "kernelspec": {
   "display_name": "Javascript (Node.js)",
   "language": "javascript",
   "name": "javascript"
  },
  "language_info": {
   "file_extension": ".js",
   "mimetype": "application/javascript",
   "name": "javascript",
   "version": "8.9.4"
  }
 },
 "nbformat": 4,
 "nbformat_minor": 2
}
